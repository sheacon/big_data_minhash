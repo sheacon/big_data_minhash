{
 "cells": [
  {
   "attachments": {},
   "cell_type": "markdown",
   "metadata": {},
   "source": [
    "# Project 1 - Genomic Alignment\n",
    "Shea Conaway (shea.conaway@vanderbilt.edu)"
   ]
  },
  {
   "attachments": {},
   "cell_type": "markdown",
   "metadata": {},
   "source": [
    "## Dataset"
   ]
  },
  {
   "cell_type": "code",
   "execution_count": 1,
   "metadata": {},
   "outputs": [],
   "source": [
    "import pandas as pd\n",
    "import numpy as np"
   ]
  },
  {
   "cell_type": "code",
   "execution_count": 2,
   "metadata": {},
   "outputs": [
    {
     "name": "stdout",
     "output_type": "stream",
     "text": [
      "(2000, 2)\n"
     ]
    }
   ],
   "source": [
    "# read reads.fq\n",
    "names = []\n",
    "reads = []\n",
    "with open('data/reads.fq') as f:\n",
    "    for i, line in enumerate(f):\n",
    "        if i % 4 == 0:\n",
    "            names.append(line)\n",
    "        if (i-1) % 4 == 0:\n",
    "            reads.append(line)\n",
    "\n",
    "# create dataframe\n",
    "reads = pd.DataFrame({'name': names, 'read': reads})\n",
    "print(reads.shape)"
   ]
  },
  {
   "cell_type": "code",
   "execution_count": 3,
   "metadata": {},
   "outputs": [
    {
     "name": "stdout",
     "output_type": "stream",
     "text": [
      "(500, 3)\n"
     ]
    }
   ],
   "source": [
    "# read reference genome file\n",
    "reference = pd.read_csv('data/reference_chr21_20000000_20050000.fa')\n",
    "print(reference.shape)"
   ]
  },
  {
   "attachments": {},
   "cell_type": "markdown",
   "metadata": {},
   "source": [
    "## Milestone 1: 80%\n",
    "- Correct data preprocess (cut sequence into k-mers, one-hot encoding)\n",
    "- Correct minhash function / any other hash function that applies\n",
    "- Calculate jaccard similarity and report the alignment result"
   ]
  },
  {
   "attachments": {},
   "cell_type": "markdown",
   "metadata": {},
   "source": [
    "### Step 1\n",
    "Cut reads into kmers"
   ]
  },
  {
   "cell_type": "code",
   "execution_count": 4,
   "metadata": {},
   "outputs": [],
   "source": [
    "# cut each read into 15-mers lagged by one base\n",
    "reads['kmers'] = reads['read'].apply(lambda x: [x[i:i+15] for i in range(0, len(x)-15, 1)])"
   ]
  },
  {
   "cell_type": "code",
   "execution_count": 5,
   "metadata": {},
   "outputs": [
    {
     "data": {
      "text/html": [
       "<div>\n",
       "<style scoped>\n",
       "    .dataframe tbody tr th:only-of-type {\n",
       "        vertical-align: middle;\n",
       "    }\n",
       "\n",
       "    .dataframe tbody tr th {\n",
       "        vertical-align: top;\n",
       "    }\n",
       "\n",
       "    .dataframe thead th {\n",
       "        text-align: right;\n",
       "    }\n",
       "</style>\n",
       "<table border=\"1\" class=\"dataframe\">\n",
       "  <thead>\n",
       "    <tr style=\"text-align: right;\">\n",
       "      <th></th>\n",
       "      <th>name</th>\n",
       "      <th>read</th>\n",
       "      <th>kmers</th>\n",
       "    </tr>\n",
       "  </thead>\n",
       "  <tbody>\n",
       "    <tr>\n",
       "      <th>0</th>\n",
       "      <td>@ST-K00126:336:H5W53BBXX:19962722:20120330:505...</td>\n",
       "      <td>TCCTTACTGGTTTTGCAGGTAACTTATAGAGTATTTCCACTTCCCT...</td>\n",
       "      <td>[TCCTTACTGGTTTTG, CCTTACTGGTTTTGC, CTTACTGGTTT...</td>\n",
       "    </tr>\n",
       "    <tr>\n",
       "      <th>1</th>\n",
       "      <td>@ST-K00126:1714:H5W53BBXX:19876023:20073038:13...</td>\n",
       "      <td>GGTTTTTCAGGTAACTTATAGAGTATTTCCACTTCCCTTCTCCTAT...</td>\n",
       "      <td>[GGTTTTTCAGGTAAC, GTTTTTCAGGTAACT, TTTTTCAGGTA...</td>\n",
       "    </tr>\n",
       "    <tr>\n",
       "      <th>2</th>\n",
       "      <td>@ST-K00126:128:H5W53BBXX:19846943:20117449:173...</td>\n",
       "      <td>AGGTAACTTATAGAGTACTTCCACTTCCCTTCTCCTATCCCTTGAA...</td>\n",
       "      <td>[AGGTAACTTATAGAG, GGTAACTTATAGAGT, GTAACTTATAG...</td>\n",
       "    </tr>\n",
       "    <tr>\n",
       "      <th>3</th>\n",
       "      <td>@ST-K00126:123:H5W53BBXX:19995295:20041917:180...</td>\n",
       "      <td>CACTTCCCTTCTACTATCCCTTGAAAAATTGTCATTTATTTCTCTT...</td>\n",
       "      <td>[CACTTCCCTTCTACT, ACTTCCCTTCTACTA, CTTCCCTTCTA...</td>\n",
       "    </tr>\n",
       "    <tr>\n",
       "      <th>4</th>\n",
       "      <td>@ST-K00126:445:H5W53BBXX:19998589:20051598:219...</td>\n",
       "      <td>CCTTCTCCTATCCCTTGAAAAATTGTCATTTATTTCCCTTATCCAT...</td>\n",
       "      <td>[CCTTCTCCTATCCCT, CTTCTCCTATCCCTT, TTCTCCTATCC...</td>\n",
       "    </tr>\n",
       "  </tbody>\n",
       "</table>\n",
       "</div>"
      ],
      "text/plain": [
       "                                                name  \\\n",
       "0  @ST-K00126:336:H5W53BBXX:19962722:20120330:505...   \n",
       "1  @ST-K00126:1714:H5W53BBXX:19876023:20073038:13...   \n",
       "2  @ST-K00126:128:H5W53BBXX:19846943:20117449:173...   \n",
       "3  @ST-K00126:123:H5W53BBXX:19995295:20041917:180...   \n",
       "4  @ST-K00126:445:H5W53BBXX:19998589:20051598:219...   \n",
       "\n",
       "                                                read  \\\n",
       "0  TCCTTACTGGTTTTGCAGGTAACTTATAGAGTATTTCCACTTCCCT...   \n",
       "1  GGTTTTTCAGGTAACTTATAGAGTATTTCCACTTCCCTTCTCCTAT...   \n",
       "2  AGGTAACTTATAGAGTACTTCCACTTCCCTTCTCCTATCCCTTGAA...   \n",
       "3  CACTTCCCTTCTACTATCCCTTGAAAAATTGTCATTTATTTCTCTT...   \n",
       "4  CCTTCTCCTATCCCTTGAAAAATTGTCATTTATTTCCCTTATCCAT...   \n",
       "\n",
       "                                               kmers  \n",
       "0  [TCCTTACTGGTTTTG, CCTTACTGGTTTTGC, CTTACTGGTTT...  \n",
       "1  [GGTTTTTCAGGTAAC, GTTTTTCAGGTAACT, TTTTTCAGGTA...  \n",
       "2  [AGGTAACTTATAGAG, GGTAACTTATAGAGT, GTAACTTATAG...  \n",
       "3  [CACTTCCCTTCTACT, ACTTCCCTTCTACTA, CTTCCCTTCTA...  \n",
       "4  [CCTTCTCCTATCCCT, CTTCTCCTATCCCTT, TTCTCCTATCC...  "
      ]
     },
     "execution_count": 5,
     "metadata": {},
     "output_type": "execute_result"
    }
   ],
   "source": [
    "reads.head()"
   ]
  },
  {
   "attachments": {},
   "cell_type": "markdown",
   "metadata": {},
   "source": [
    "### Step 2\n",
    "Cut reference bins into kmers"
   ]
  },
  {
   "cell_type": "code",
   "execution_count": 6,
   "metadata": {},
   "outputs": [],
   "source": [
    "# cut each reference into 15-mers lagged by one base\n",
    "reference['kmers'] = reference['sequence'].apply(lambda x: [x[i:i+15] for i in range(0, len(x)-15, 1)])"
   ]
  },
  {
   "cell_type": "code",
   "execution_count": 7,
   "metadata": {},
   "outputs": [
    {
     "data": {
      "text/html": [
       "<div>\n",
       "<style scoped>\n",
       "    .dataframe tbody tr th:only-of-type {\n",
       "        vertical-align: middle;\n",
       "    }\n",
       "\n",
       "    .dataframe tbody tr th {\n",
       "        vertical-align: top;\n",
       "    }\n",
       "\n",
       "    .dataframe thead th {\n",
       "        text-align: right;\n",
       "    }\n",
       "</style>\n",
       "<table border=\"1\" class=\"dataframe\">\n",
       "  <thead>\n",
       "    <tr style=\"text-align: right;\">\n",
       "      <th></th>\n",
       "      <th>start</th>\n",
       "      <th>end</th>\n",
       "      <th>sequence</th>\n",
       "      <th>kmers</th>\n",
       "    </tr>\n",
       "  </thead>\n",
       "  <tbody>\n",
       "    <tr>\n",
       "      <th>0</th>\n",
       "      <td>20000000</td>\n",
       "      <td>20000100</td>\n",
       "      <td>CCCTTCTCCTATCCCTTGAAAAATTGTCATTTATTTCTCTTATCCA...</td>\n",
       "      <td>[CCCTTCTCCTATCCC, CCTTCTCCTATCCCT, CTTCTCCTATC...</td>\n",
       "    </tr>\n",
       "    <tr>\n",
       "      <th>1</th>\n",
       "      <td>20000100</td>\n",
       "      <td>20000200</td>\n",
       "      <td>TAGATTCATTTAGAATATAAAAAAATTTTATTTTATTTTCACTTAT...</td>\n",
       "      <td>[TAGATTCATTTAGAA, AGATTCATTTAGAAT, GATTCATTTAG...</td>\n",
       "    </tr>\n",
       "    <tr>\n",
       "      <th>2</th>\n",
       "      <td>20000200</td>\n",
       "      <td>20000300</td>\n",
       "      <td>TTCTTCTTCCTGAAGAAAATATTTTAACATTTCCTGCATGGGTGGT...</td>\n",
       "      <td>[TTCTTCTTCCTGAAG, TCTTCTTCCTGAAGA, CTTCTTCCTGA...</td>\n",
       "    </tr>\n",
       "    <tr>\n",
       "      <th>3</th>\n",
       "      <td>20000300</td>\n",
       "      <td>20000400</td>\n",
       "      <td>ACTTTTCAAGGATAGTTTTGTGGGATACAGAATTCTAGATCAGCGT...</td>\n",
       "      <td>[ACTTTTCAAGGATAG, CTTTTCAAGGATAGT, TTTTCAAGGAT...</td>\n",
       "    </tr>\n",
       "    <tr>\n",
       "      <th>4</th>\n",
       "      <td>20000400</td>\n",
       "      <td>20000500</td>\n",
       "      <td>CTGACAGGACTTCTGCCAAGGACAACTTTCCTGTAATGTTTATCTT...</td>\n",
       "      <td>[CTGACAGGACTTCTG, TGACAGGACTTCTGC, GACAGGACTTC...</td>\n",
       "    </tr>\n",
       "  </tbody>\n",
       "</table>\n",
       "</div>"
      ],
      "text/plain": [
       "      start       end                                           sequence  \\\n",
       "0  20000000  20000100  CCCTTCTCCTATCCCTTGAAAAATTGTCATTTATTTCTCTTATCCA...   \n",
       "1  20000100  20000200  TAGATTCATTTAGAATATAAAAAAATTTTATTTTATTTTCACTTAT...   \n",
       "2  20000200  20000300  TTCTTCTTCCTGAAGAAAATATTTTAACATTTCCTGCATGGGTGGT...   \n",
       "3  20000300  20000400  ACTTTTCAAGGATAGTTTTGTGGGATACAGAATTCTAGATCAGCGT...   \n",
       "4  20000400  20000500  CTGACAGGACTTCTGCCAAGGACAACTTTCCTGTAATGTTTATCTT...   \n",
       "\n",
       "                                               kmers  \n",
       "0  [CCCTTCTCCTATCCC, CCTTCTCCTATCCCT, CTTCTCCTATC...  \n",
       "1  [TAGATTCATTTAGAA, AGATTCATTTAGAAT, GATTCATTTAG...  \n",
       "2  [TTCTTCTTCCTGAAG, TCTTCTTCCTGAAGA, CTTCTTCCTGA...  \n",
       "3  [ACTTTTCAAGGATAG, CTTTTCAAGGATAGT, TTTTCAAGGAT...  \n",
       "4  [CTGACAGGACTTCTG, TGACAGGACTTCTGC, GACAGGACTTC...  "
      ]
     },
     "execution_count": 7,
     "metadata": {},
     "output_type": "execute_result"
    }
   ],
   "source": [
    "reference.head()"
   ]
  },
  {
   "attachments": {},
   "cell_type": "markdown",
   "metadata": {},
   "source": [
    "### Step 3\n",
    "Collect all kmers (from reads and reference bins) and build a distinct kmer set"
   ]
  },
  {
   "cell_type": "code",
   "execution_count": 8,
   "metadata": {},
   "outputs": [],
   "source": [
    "# collect distinct kmers from reads and reference\n",
    "kmers_set = set()\n",
    "for kmers_list in reads['kmers']:\n",
    "    kmers_set.update(kmers_list)\n",
    "for kmers_list in reference['kmers']:\n",
    "    kmers_set.update(kmers_list)"
   ]
  },
  {
   "cell_type": "code",
   "execution_count": 9,
   "metadata": {},
   "outputs": [
    {
     "name": "stdout",
     "output_type": "stream",
     "text": [
      "72445\n"
     ]
    }
   ],
   "source": [
    "# print number of distinct kmers\n",
    "print(len(kmers_set))"
   ]
  },
  {
   "attachments": {},
   "cell_type": "markdown",
   "metadata": {},
   "source": [
    "### Steps 4 and 5\n",
    "Use kmer to encode reads and reference using one-hot encoding"
   ]
  },
  {
   "cell_type": "code",
   "execution_count": 10,
   "metadata": {},
   "outputs": [],
   "source": [
    "def kmer_encode(kmers_set,df):\n",
    "\n",
    "    # create empty dict\n",
    "    kmers_encoding = {}\n",
    "\n",
    "    # one-hot encode kmers for each read\n",
    "    for kmer in kmers_set:\n",
    "        kmers_encoding[kmer] = df['kmers'].apply(lambda x: 1 if kmer in x else 0)\n",
    "\n",
    "    # convert dict to df and append to reads\n",
    "    kmers_encoding = pd.DataFrame(kmers_encoding)\n",
    "    df = pd.concat([df, kmers_encoding], axis=1)\n",
    "\n",
    "    return df"
   ]
  },
  {
   "cell_type": "code",
   "execution_count": 11,
   "metadata": {},
   "outputs": [
    {
     "name": "stdout",
     "output_type": "stream",
     "text": [
      "(2000, 72448)\n"
     ]
    }
   ],
   "source": [
    "# encode reads\n",
    "reads_enc = kmer_encode(kmers_set,reads)\n",
    "print(reads_enc.shape)"
   ]
  },
  {
   "cell_type": "code",
   "execution_count": 12,
   "metadata": {},
   "outputs": [
    {
     "name": "stdout",
     "output_type": "stream",
     "text": [
      "(500, 72449)\n"
     ]
    }
   ],
   "source": [
    "# encode reference\n",
    "reference_enc = kmer_encode(kmers_set,reference)\n",
    "print(reference_enc.shape)"
   ]
  },
  {
   "cell_type": "code",
   "execution_count": 13,
   "metadata": {},
   "outputs": [],
   "source": [
    "# drop unneeded columns\n",
    "reads_enc.drop(['name', 'read', 'kmers'], axis=1, inplace=True)\n",
    "reference_enc.drop(['start', 'end', 'sequence', 'kmers'], axis=1, inplace=True)"
   ]
  },
  {
   "cell_type": "code",
   "execution_count": 14,
   "metadata": {},
   "outputs": [
    {
     "data": {
      "text/html": [
       "<div>\n",
       "<style scoped>\n",
       "    .dataframe tbody tr th:only-of-type {\n",
       "        vertical-align: middle;\n",
       "    }\n",
       "\n",
       "    .dataframe tbody tr th {\n",
       "        vertical-align: top;\n",
       "    }\n",
       "\n",
       "    .dataframe thead th {\n",
       "        text-align: right;\n",
       "    }\n",
       "</style>\n",
       "<table border=\"1\" class=\"dataframe\">\n",
       "  <thead>\n",
       "    <tr style=\"text-align: right;\">\n",
       "      <th></th>\n",
       "      <th>CAACAGATCTGCTTA</th>\n",
       "      <th>ACCATCTAATTTATT</th>\n",
       "      <th>TCTCTGTGTCTTTCT</th>\n",
       "      <th>ACATACAGAAATCGT</th>\n",
       "      <th>TTTCAAGAACTACAG</th>\n",
       "      <th>TTAAGCATTATATGT</th>\n",
       "      <th>TCCATATTACATACA</th>\n",
       "      <th>AAGAGCAGGCCTCTG</th>\n",
       "      <th>CACAATTTTTTGTAA</th>\n",
       "      <th>AAGATACATTTTAAA</th>\n",
       "      <th>...</th>\n",
       "      <th>CTTCAAAAAAATTTT</th>\n",
       "      <th>CAATATTCAACTTTG</th>\n",
       "      <th>TAGGCCATACTATAC</th>\n",
       "      <th>TGAAAATAGCCAATT</th>\n",
       "      <th>TTATATCTACCATCA</th>\n",
       "      <th>AAGATGCCTCTCTGA</th>\n",
       "      <th>CACGTACAATTAACT</th>\n",
       "      <th>TAATCTGTGTTTGTC</th>\n",
       "      <th>GGCAATCTATTGTCT</th>\n",
       "      <th>TTTAGTGTATGATCT</th>\n",
       "    </tr>\n",
       "  </thead>\n",
       "  <tbody>\n",
       "    <tr>\n",
       "      <th>0</th>\n",
       "      <td>0</td>\n",
       "      <td>0</td>\n",
       "      <td>0</td>\n",
       "      <td>0</td>\n",
       "      <td>0</td>\n",
       "      <td>0</td>\n",
       "      <td>0</td>\n",
       "      <td>0</td>\n",
       "      <td>0</td>\n",
       "      <td>0</td>\n",
       "      <td>...</td>\n",
       "      <td>0</td>\n",
       "      <td>0</td>\n",
       "      <td>0</td>\n",
       "      <td>0</td>\n",
       "      <td>0</td>\n",
       "      <td>0</td>\n",
       "      <td>0</td>\n",
       "      <td>0</td>\n",
       "      <td>0</td>\n",
       "      <td>0</td>\n",
       "    </tr>\n",
       "    <tr>\n",
       "      <th>1</th>\n",
       "      <td>0</td>\n",
       "      <td>0</td>\n",
       "      <td>0</td>\n",
       "      <td>0</td>\n",
       "      <td>0</td>\n",
       "      <td>0</td>\n",
       "      <td>0</td>\n",
       "      <td>0</td>\n",
       "      <td>0</td>\n",
       "      <td>0</td>\n",
       "      <td>...</td>\n",
       "      <td>0</td>\n",
       "      <td>0</td>\n",
       "      <td>0</td>\n",
       "      <td>0</td>\n",
       "      <td>0</td>\n",
       "      <td>0</td>\n",
       "      <td>0</td>\n",
       "      <td>0</td>\n",
       "      <td>0</td>\n",
       "      <td>0</td>\n",
       "    </tr>\n",
       "    <tr>\n",
       "      <th>2</th>\n",
       "      <td>0</td>\n",
       "      <td>0</td>\n",
       "      <td>0</td>\n",
       "      <td>0</td>\n",
       "      <td>0</td>\n",
       "      <td>0</td>\n",
       "      <td>0</td>\n",
       "      <td>0</td>\n",
       "      <td>0</td>\n",
       "      <td>0</td>\n",
       "      <td>...</td>\n",
       "      <td>0</td>\n",
       "      <td>0</td>\n",
       "      <td>0</td>\n",
       "      <td>0</td>\n",
       "      <td>0</td>\n",
       "      <td>0</td>\n",
       "      <td>0</td>\n",
       "      <td>0</td>\n",
       "      <td>0</td>\n",
       "      <td>0</td>\n",
       "    </tr>\n",
       "    <tr>\n",
       "      <th>3</th>\n",
       "      <td>0</td>\n",
       "      <td>0</td>\n",
       "      <td>0</td>\n",
       "      <td>0</td>\n",
       "      <td>0</td>\n",
       "      <td>0</td>\n",
       "      <td>0</td>\n",
       "      <td>0</td>\n",
       "      <td>0</td>\n",
       "      <td>0</td>\n",
       "      <td>...</td>\n",
       "      <td>0</td>\n",
       "      <td>0</td>\n",
       "      <td>0</td>\n",
       "      <td>0</td>\n",
       "      <td>0</td>\n",
       "      <td>0</td>\n",
       "      <td>0</td>\n",
       "      <td>0</td>\n",
       "      <td>0</td>\n",
       "      <td>0</td>\n",
       "    </tr>\n",
       "    <tr>\n",
       "      <th>4</th>\n",
       "      <td>0</td>\n",
       "      <td>0</td>\n",
       "      <td>0</td>\n",
       "      <td>0</td>\n",
       "      <td>0</td>\n",
       "      <td>0</td>\n",
       "      <td>0</td>\n",
       "      <td>0</td>\n",
       "      <td>0</td>\n",
       "      <td>0</td>\n",
       "      <td>...</td>\n",
       "      <td>0</td>\n",
       "      <td>0</td>\n",
       "      <td>0</td>\n",
       "      <td>0</td>\n",
       "      <td>0</td>\n",
       "      <td>0</td>\n",
       "      <td>0</td>\n",
       "      <td>0</td>\n",
       "      <td>0</td>\n",
       "      <td>0</td>\n",
       "    </tr>\n",
       "  </tbody>\n",
       "</table>\n",
       "<p>5 rows × 72445 columns</p>\n",
       "</div>"
      ],
      "text/plain": [
       "   CAACAGATCTGCTTA  ACCATCTAATTTATT  TCTCTGTGTCTTTCT  ACATACAGAAATCGT  \\\n",
       "0                0                0                0                0   \n",
       "1                0                0                0                0   \n",
       "2                0                0                0                0   \n",
       "3                0                0                0                0   \n",
       "4                0                0                0                0   \n",
       "\n",
       "   TTTCAAGAACTACAG  TTAAGCATTATATGT  TCCATATTACATACA  AAGAGCAGGCCTCTG  \\\n",
       "0                0                0                0                0   \n",
       "1                0                0                0                0   \n",
       "2                0                0                0                0   \n",
       "3                0                0                0                0   \n",
       "4                0                0                0                0   \n",
       "\n",
       "   CACAATTTTTTGTAA  AAGATACATTTTAAA  ...  CTTCAAAAAAATTTT  CAATATTCAACTTTG  \\\n",
       "0                0                0  ...                0                0   \n",
       "1                0                0  ...                0                0   \n",
       "2                0                0  ...                0                0   \n",
       "3                0                0  ...                0                0   \n",
       "4                0                0  ...                0                0   \n",
       "\n",
       "   TAGGCCATACTATAC  TGAAAATAGCCAATT  TTATATCTACCATCA  AAGATGCCTCTCTGA  \\\n",
       "0                0                0                0                0   \n",
       "1                0                0                0                0   \n",
       "2                0                0                0                0   \n",
       "3                0                0                0                0   \n",
       "4                0                0                0                0   \n",
       "\n",
       "   CACGTACAATTAACT  TAATCTGTGTTTGTC  GGCAATCTATTGTCT  TTTAGTGTATGATCT  \n",
       "0                0                0                0                0  \n",
       "1                0                0                0                0  \n",
       "2                0                0                0                0  \n",
       "3                0                0                0                0  \n",
       "4                0                0                0                0  \n",
       "\n",
       "[5 rows x 72445 columns]"
      ]
     },
     "execution_count": 14,
     "metadata": {},
     "output_type": "execute_result"
    }
   ],
   "source": [
    "reads_enc.head()"
   ]
  },
  {
   "cell_type": "code",
   "execution_count": 15,
   "metadata": {},
   "outputs": [
    {
     "data": {
      "text/html": [
       "<div>\n",
       "<style scoped>\n",
       "    .dataframe tbody tr th:only-of-type {\n",
       "        vertical-align: middle;\n",
       "    }\n",
       "\n",
       "    .dataframe tbody tr th {\n",
       "        vertical-align: top;\n",
       "    }\n",
       "\n",
       "    .dataframe thead th {\n",
       "        text-align: right;\n",
       "    }\n",
       "</style>\n",
       "<table border=\"1\" class=\"dataframe\">\n",
       "  <thead>\n",
       "    <tr style=\"text-align: right;\">\n",
       "      <th></th>\n",
       "      <th>CAACAGATCTGCTTA</th>\n",
       "      <th>ACCATCTAATTTATT</th>\n",
       "      <th>TCTCTGTGTCTTTCT</th>\n",
       "      <th>ACATACAGAAATCGT</th>\n",
       "      <th>TTTCAAGAACTACAG</th>\n",
       "      <th>TTAAGCATTATATGT</th>\n",
       "      <th>TCCATATTACATACA</th>\n",
       "      <th>AAGAGCAGGCCTCTG</th>\n",
       "      <th>CACAATTTTTTGTAA</th>\n",
       "      <th>AAGATACATTTTAAA</th>\n",
       "      <th>...</th>\n",
       "      <th>CTTCAAAAAAATTTT</th>\n",
       "      <th>CAATATTCAACTTTG</th>\n",
       "      <th>TAGGCCATACTATAC</th>\n",
       "      <th>TGAAAATAGCCAATT</th>\n",
       "      <th>TTATATCTACCATCA</th>\n",
       "      <th>AAGATGCCTCTCTGA</th>\n",
       "      <th>CACGTACAATTAACT</th>\n",
       "      <th>TAATCTGTGTTTGTC</th>\n",
       "      <th>GGCAATCTATTGTCT</th>\n",
       "      <th>TTTAGTGTATGATCT</th>\n",
       "    </tr>\n",
       "  </thead>\n",
       "  <tbody>\n",
       "    <tr>\n",
       "      <th>0</th>\n",
       "      <td>0</td>\n",
       "      <td>0</td>\n",
       "      <td>0</td>\n",
       "      <td>0</td>\n",
       "      <td>0</td>\n",
       "      <td>0</td>\n",
       "      <td>0</td>\n",
       "      <td>0</td>\n",
       "      <td>0</td>\n",
       "      <td>0</td>\n",
       "      <td>...</td>\n",
       "      <td>0</td>\n",
       "      <td>0</td>\n",
       "      <td>0</td>\n",
       "      <td>0</td>\n",
       "      <td>0</td>\n",
       "      <td>0</td>\n",
       "      <td>0</td>\n",
       "      <td>0</td>\n",
       "      <td>0</td>\n",
       "      <td>0</td>\n",
       "    </tr>\n",
       "    <tr>\n",
       "      <th>1</th>\n",
       "      <td>0</td>\n",
       "      <td>0</td>\n",
       "      <td>0</td>\n",
       "      <td>0</td>\n",
       "      <td>0</td>\n",
       "      <td>0</td>\n",
       "      <td>0</td>\n",
       "      <td>0</td>\n",
       "      <td>0</td>\n",
       "      <td>0</td>\n",
       "      <td>...</td>\n",
       "      <td>0</td>\n",
       "      <td>0</td>\n",
       "      <td>0</td>\n",
       "      <td>0</td>\n",
       "      <td>0</td>\n",
       "      <td>0</td>\n",
       "      <td>0</td>\n",
       "      <td>0</td>\n",
       "      <td>0</td>\n",
       "      <td>0</td>\n",
       "    </tr>\n",
       "    <tr>\n",
       "      <th>2</th>\n",
       "      <td>0</td>\n",
       "      <td>0</td>\n",
       "      <td>0</td>\n",
       "      <td>0</td>\n",
       "      <td>0</td>\n",
       "      <td>0</td>\n",
       "      <td>0</td>\n",
       "      <td>0</td>\n",
       "      <td>0</td>\n",
       "      <td>0</td>\n",
       "      <td>...</td>\n",
       "      <td>0</td>\n",
       "      <td>0</td>\n",
       "      <td>0</td>\n",
       "      <td>0</td>\n",
       "      <td>0</td>\n",
       "      <td>0</td>\n",
       "      <td>0</td>\n",
       "      <td>0</td>\n",
       "      <td>0</td>\n",
       "      <td>0</td>\n",
       "    </tr>\n",
       "    <tr>\n",
       "      <th>3</th>\n",
       "      <td>0</td>\n",
       "      <td>0</td>\n",
       "      <td>0</td>\n",
       "      <td>0</td>\n",
       "      <td>0</td>\n",
       "      <td>0</td>\n",
       "      <td>0</td>\n",
       "      <td>0</td>\n",
       "      <td>0</td>\n",
       "      <td>0</td>\n",
       "      <td>...</td>\n",
       "      <td>0</td>\n",
       "      <td>0</td>\n",
       "      <td>0</td>\n",
       "      <td>0</td>\n",
       "      <td>0</td>\n",
       "      <td>0</td>\n",
       "      <td>0</td>\n",
       "      <td>0</td>\n",
       "      <td>0</td>\n",
       "      <td>0</td>\n",
       "    </tr>\n",
       "    <tr>\n",
       "      <th>4</th>\n",
       "      <td>0</td>\n",
       "      <td>0</td>\n",
       "      <td>0</td>\n",
       "      <td>0</td>\n",
       "      <td>0</td>\n",
       "      <td>0</td>\n",
       "      <td>0</td>\n",
       "      <td>0</td>\n",
       "      <td>0</td>\n",
       "      <td>0</td>\n",
       "      <td>...</td>\n",
       "      <td>0</td>\n",
       "      <td>0</td>\n",
       "      <td>0</td>\n",
       "      <td>0</td>\n",
       "      <td>0</td>\n",
       "      <td>0</td>\n",
       "      <td>0</td>\n",
       "      <td>0</td>\n",
       "      <td>0</td>\n",
       "      <td>0</td>\n",
       "    </tr>\n",
       "  </tbody>\n",
       "</table>\n",
       "<p>5 rows × 72445 columns</p>\n",
       "</div>"
      ],
      "text/plain": [
       "   CAACAGATCTGCTTA  ACCATCTAATTTATT  TCTCTGTGTCTTTCT  ACATACAGAAATCGT  \\\n",
       "0                0                0                0                0   \n",
       "1                0                0                0                0   \n",
       "2                0                0                0                0   \n",
       "3                0                0                0                0   \n",
       "4                0                0                0                0   \n",
       "\n",
       "   TTTCAAGAACTACAG  TTAAGCATTATATGT  TCCATATTACATACA  AAGAGCAGGCCTCTG  \\\n",
       "0                0                0                0                0   \n",
       "1                0                0                0                0   \n",
       "2                0                0                0                0   \n",
       "3                0                0                0                0   \n",
       "4                0                0                0                0   \n",
       "\n",
       "   CACAATTTTTTGTAA  AAGATACATTTTAAA  ...  CTTCAAAAAAATTTT  CAATATTCAACTTTG  \\\n",
       "0                0                0  ...                0                0   \n",
       "1                0                0  ...                0                0   \n",
       "2                0                0  ...                0                0   \n",
       "3                0                0  ...                0                0   \n",
       "4                0                0  ...                0                0   \n",
       "\n",
       "   TAGGCCATACTATAC  TGAAAATAGCCAATT  TTATATCTACCATCA  AAGATGCCTCTCTGA  \\\n",
       "0                0                0                0                0   \n",
       "1                0                0                0                0   \n",
       "2                0                0                0                0   \n",
       "3                0                0                0                0   \n",
       "4                0                0                0                0   \n",
       "\n",
       "   CACGTACAATTAACT  TAATCTGTGTTTGTC  GGCAATCTATTGTCT  TTTAGTGTATGATCT  \n",
       "0                0                0                0                0  \n",
       "1                0                0                0                0  \n",
       "2                0                0                0                0  \n",
       "3                0                0                0                0  \n",
       "4                0                0                0                0  \n",
       "\n",
       "[5 rows x 72445 columns]"
      ]
     },
     "execution_count": 15,
     "metadata": {},
     "output_type": "execute_result"
    }
   ],
   "source": [
    "reference_enc.head()"
   ]
  },
  {
   "attachments": {},
   "cell_type": "markdown",
   "metadata": {},
   "source": [
    "### Step 6\n",
    "Use minhash to reduce the feature dimension for reads and reference bins"
   ]
  },
  {
   "cell_type": "code",
   "execution_count": 16,
   "metadata": {},
   "outputs": [],
   "source": [
    "def minhash_signature(row, num_hashes):\n",
    "    # Initialize an array of hash values with infinity\n",
    "    hash_vals = np.full(num_hashes, np.inf)\n",
    "\n",
    "    # run multiple hash functions on each present kmer, store  global minimum value for each hash function\n",
    "    for kmer in row.index[row == 1]: # loop over kmers that are present in the read\n",
    "        for i in range(num_hashes): # loop of hash functions\n",
    "            # hash the kmer with the hash function\n",
    "            # appending the hash function number to make it unique\n",
    "            hash_val = hash(kmer + str(i))\n",
    "            hash_vals[i] = min(hash_vals[i], hash_val)\n",
    "\n",
    "    return hash_vals\n"
   ]
  },
  {
   "attachments": {},
   "cell_type": "markdown",
   "metadata": {},
   "source": [
    "#### Hash Function Explainer\n",
    "\n",
    "The code appends `str(i)` to the `kmer` string to make the resulting hash value unique for each hash function `i`. The purpose of this is to ensure that each hash function produces a unique hash value for each kmer.\n",
    "\n",
    "In this implementation of minhash signature, multiple hash functions are used to generate the minhash signature for each row (which represents a sequence of k-mers). To ensure that the hash values generated by each hash function are independent and do not collide with each other, the hash function is applied to the concatenation of the kmer string with the string representation of the hash function number i.\n",
    "\n",
    "By appending str(i) to kmer, we are effectively creating a unique hash value for each combination of kmer and i. This ensures that the hash values produced by each hash function are distinct and do not overlap. If we did not include str(i) in the input to the hash function, the same kmer string could potentially generate the same hash value for multiple hash functions, which would defeat the purpose of using multiple hash functions to generate a minhash signature.\n",
    "\n",
    "Each element of the minhash signature across k-mers does not need to be produced with the same hash function. In fact, the key idea behind minhashing is to use multiple hash functions to generate a signature for each set of k-mers, where each element of the signature is produced by a different hash function.\n",
    "\n",
    "The basic idea of minhashing is to use a set of hash functions to map each k-mer in a set to a different bucket or bin, and then to identify the smallest hash value in each bin. The resulting set of smallest hash values forms the minhash signature for that set of k-mers.\n",
    "\n",
    "By using multiple hash functions to generate the minhash signature, we can obtain a more robust estimate of the Jaccard similarity between sets of k-mers, even if some hash functions happen to produce poor estimates for some k-mers.\n",
    "\n",
    "Therefore, to obtain an accurate minhash signature, it is important to use a set of hash functions that are well-suited to the specific application and that can generate independent hash values for each k-mer in the set. However, each element of the minhash signature can be produced by a different hash function, and this is a key aspect of the minhashing algorithm."
   ]
  },
  {
   "cell_type": "code",
   "execution_count": 17,
   "metadata": {},
   "outputs": [],
   "source": [
    "# number of hashes/functions\n",
    "num_hashes = 1000\n",
    "\n",
    "# Compute MinHash signatures for reads and reference sequences\n",
    "reads_sigs = reads_enc.apply(minhash_signature, num_hashes=num_hashes, axis=1)\n",
    "refs_sigs = reference_enc.apply(minhash_signature, num_hashes=num_hashes, axis=1)"
   ]
  },
  {
   "cell_type": "code",
   "execution_count": 18,
   "metadata": {},
   "outputs": [
    {
     "data": {
      "text/plain": [
       "array([-9.03391780e+18, -9.09894239e+18, -8.81742205e+18, -9.08206077e+18,\n",
       "       -8.86867978e+18, -9.01286504e+18, -8.97099142e+18, -9.17110146e+18,\n",
       "       -9.21230517e+18, -9.17434650e+18])"
      ]
     },
     "execution_count": 18,
     "metadata": {},
     "output_type": "execute_result"
    }
   ],
   "source": [
    "# review slice of sample signature\n",
    "reads_sigs[0][0:10]"
   ]
  },
  {
   "attachments": {},
   "cell_type": "markdown",
   "metadata": {},
   "source": [
    "### Step 7\n",
    "Calculate the jaccard similarity between reads and bins and find the most similar bin for every read"
   ]
  },
  {
   "cell_type": "code",
   "execution_count": 19,
   "metadata": {},
   "outputs": [],
   "source": [
    "# Jaccard similarity function for two signatures\n",
    "def jaccard_similarity(sig1, sig2):\n",
    "    intersection = np.sum(sig1 == sig2)\n",
    "    union = len(np.union1d(sig1, sig2))\n",
    "    if union == 0:\n",
    "        return 0\n",
    "    else:\n",
    "        return intersection / union"
   ]
  },
  {
   "cell_type": "code",
   "execution_count": 20,
   "metadata": {},
   "outputs": [
    {
     "data": {
      "text/html": [
       "<div>\n",
       "<style scoped>\n",
       "    .dataframe tbody tr th:only-of-type {\n",
       "        vertical-align: middle;\n",
       "    }\n",
       "\n",
       "    .dataframe tbody tr th {\n",
       "        vertical-align: top;\n",
       "    }\n",
       "\n",
       "    .dataframe thead th {\n",
       "        text-align: right;\n",
       "    }\n",
       "</style>\n",
       "<table border=\"1\" class=\"dataframe\">\n",
       "  <thead>\n",
       "    <tr style=\"text-align: right;\">\n",
       "      <th></th>\n",
       "      <th>read_index</th>\n",
       "      <th>max_ref_index</th>\n",
       "      <th>max_similarity</th>\n",
       "    </tr>\n",
       "  </thead>\n",
       "  <tbody>\n",
       "    <tr>\n",
       "      <th>0</th>\n",
       "      <td>0</td>\n",
       "      <td>0</td>\n",
       "      <td>0.220256</td>\n",
       "    </tr>\n",
       "    <tr>\n",
       "      <th>1</th>\n",
       "      <td>1</td>\n",
       "      <td>0</td>\n",
       "      <td>0.176471</td>\n",
       "    </tr>\n",
       "    <tr>\n",
       "      <th>2</th>\n",
       "      <td>2</td>\n",
       "      <td>0</td>\n",
       "      <td>0.229256</td>\n",
       "    </tr>\n",
       "    <tr>\n",
       "      <th>3</th>\n",
       "      <td>3</td>\n",
       "      <td>0</td>\n",
       "      <td>0.560062</td>\n",
       "    </tr>\n",
       "    <tr>\n",
       "      <th>4</th>\n",
       "      <td>4</td>\n",
       "      <td>0</td>\n",
       "      <td>0.498127</td>\n",
       "    </tr>\n",
       "  </tbody>\n",
       "</table>\n",
       "</div>"
      ],
      "text/plain": [
       "   read_index  max_ref_index  max_similarity\n",
       "0           0              0        0.220256\n",
       "1           1              0        0.176471\n",
       "2           2              0        0.229256\n",
       "3           3              0        0.560062\n",
       "4           4              0        0.498127"
      ]
     },
     "execution_count": 20,
     "metadata": {},
     "output_type": "execute_result"
    }
   ],
   "source": [
    "# for each read signature, find the reference signature with the highest Jaccard similarity\n",
    "\n",
    "results = []\n",
    "for read_index, read_sig in reads_sigs.items():\n",
    "    max_similarity = 0\n",
    "    max_ref_index = np.random.randint(0, len(refs_sigs)) # random init instead of NaN\n",
    "    for ref_index, ref_sig in refs_sigs.items():\n",
    "        similarity = jaccard_similarity(read_sig, ref_sig)\n",
    "        if similarity > max_similarity:\n",
    "            max_similarity = similarity\n",
    "            max_ref_index = ref_index\n",
    "    results.append((read_index, max_ref_index, max_similarity))\n",
    "results_df = pd.DataFrame(results, columns=['read_index', 'max_ref_index', 'max_similarity'])\n",
    "\n",
    "# results\n",
    "results_df.head()\n"
   ]
  },
  {
   "cell_type": "code",
   "execution_count": 21,
   "metadata": {},
   "outputs": [
    {
     "data": {
      "text/html": [
       "<div>\n",
       "<style scoped>\n",
       "    .dataframe tbody tr th:only-of-type {\n",
       "        vertical-align: middle;\n",
       "    }\n",
       "\n",
       "    .dataframe tbody tr th {\n",
       "        vertical-align: top;\n",
       "    }\n",
       "\n",
       "    .dataframe thead th {\n",
       "        text-align: right;\n",
       "    }\n",
       "</style>\n",
       "<table border=\"1\" class=\"dataframe\">\n",
       "  <thead>\n",
       "    <tr style=\"text-align: right;\">\n",
       "      <th></th>\n",
       "      <th>read_index</th>\n",
       "      <th>max_ref_index</th>\n",
       "      <th>max_similarity</th>\n",
       "      <th>ref_start</th>\n",
       "    </tr>\n",
       "  </thead>\n",
       "  <tbody>\n",
       "    <tr>\n",
       "      <th>0</th>\n",
       "      <td>0</td>\n",
       "      <td>0</td>\n",
       "      <td>0.220256</td>\n",
       "      <td>20000000</td>\n",
       "    </tr>\n",
       "    <tr>\n",
       "      <th>1</th>\n",
       "      <td>1</td>\n",
       "      <td>0</td>\n",
       "      <td>0.176471</td>\n",
       "      <td>20000000</td>\n",
       "    </tr>\n",
       "    <tr>\n",
       "      <th>2</th>\n",
       "      <td>2</td>\n",
       "      <td>0</td>\n",
       "      <td>0.229256</td>\n",
       "      <td>20000000</td>\n",
       "    </tr>\n",
       "    <tr>\n",
       "      <th>3</th>\n",
       "      <td>3</td>\n",
       "      <td>0</td>\n",
       "      <td>0.560062</td>\n",
       "      <td>20000000</td>\n",
       "    </tr>\n",
       "    <tr>\n",
       "      <th>4</th>\n",
       "      <td>4</td>\n",
       "      <td>0</td>\n",
       "      <td>0.498127</td>\n",
       "      <td>20000000</td>\n",
       "    </tr>\n",
       "    <tr>\n",
       "      <th>...</th>\n",
       "      <td>...</td>\n",
       "      <td>...</td>\n",
       "      <td>...</td>\n",
       "      <td>...</td>\n",
       "    </tr>\n",
       "    <tr>\n",
       "      <th>1995</th>\n",
       "      <td>1995</td>\n",
       "      <td>434</td>\n",
       "      <td>0.194743</td>\n",
       "      <td>20043400</td>\n",
       "    </tr>\n",
       "    <tr>\n",
       "      <th>1996</th>\n",
       "      <td>1996</td>\n",
       "      <td>434</td>\n",
       "      <td>0.116695</td>\n",
       "      <td>20043400</td>\n",
       "    </tr>\n",
       "    <tr>\n",
       "      <th>1997</th>\n",
       "      <td>1997</td>\n",
       "      <td>435</td>\n",
       "      <td>0.124227</td>\n",
       "      <td>20043500</td>\n",
       "    </tr>\n",
       "    <tr>\n",
       "      <th>1998</th>\n",
       "      <td>1998</td>\n",
       "      <td>435</td>\n",
       "      <td>0.199760</td>\n",
       "      <td>20043500</td>\n",
       "    </tr>\n",
       "    <tr>\n",
       "      <th>1999</th>\n",
       "      <td>1999</td>\n",
       "      <td>435</td>\n",
       "      <td>0.360544</td>\n",
       "      <td>20043500</td>\n",
       "    </tr>\n",
       "  </tbody>\n",
       "</table>\n",
       "<p>2000 rows × 4 columns</p>\n",
       "</div>"
      ],
      "text/plain": [
       "      read_index  max_ref_index  max_similarity  ref_start\n",
       "0              0              0        0.220256   20000000\n",
       "1              1              0        0.176471   20000000\n",
       "2              2              0        0.229256   20000000\n",
       "3              3              0        0.560062   20000000\n",
       "4              4              0        0.498127   20000000\n",
       "...          ...            ...             ...        ...\n",
       "1995        1995            434        0.194743   20043400\n",
       "1996        1996            434        0.116695   20043400\n",
       "1997        1997            435        0.124227   20043500\n",
       "1998        1998            435        0.199760   20043500\n",
       "1999        1999            435        0.360544   20043500\n",
       "\n",
       "[2000 rows x 4 columns]"
      ]
     },
     "execution_count": 21,
     "metadata": {},
     "output_type": "execute_result"
    }
   ],
   "source": [
    "# join results with reference on ref_index to get start column only\n",
    "results_df = results_df.join(reference['start'], on='max_ref_index')\n",
    "results_df.rename(columns={'start': 'ref_start'}, inplace=True)\n",
    "results_df"
   ]
  },
  {
   "attachments": {},
   "cell_type": "markdown",
   "metadata": {},
   "source": [
    "## Milestone 2: 20%\n",
    "- Apply parallel in hash function; show the time cost before and after parallel\n",
    "- Report the pearson correlation and MSE of your result compared to benchmark; the pearson correlation should be >0.8, and MSE should be <2500."
   ]
  },
  {
   "cell_type": "markdown",
   "metadata": {},
   "source": [
    "### Step 8\n",
    "Compare your alignment result with the benchmark\n",
    "( read_position_benchmark.csv). Does your result conform with the benchmark?\n",
    "- You can show the pearson correlation between your result and the benchmark\n",
    "- You can draw a scatter plot to show the correlation\n",
    "- You can also calculate the mean square error"
   ]
  },
  {
   "cell_type": "code",
   "execution_count": 22,
   "metadata": {},
   "outputs": [],
   "source": [
    "benchmark = pd.read_csv('data/read_position_benchmark.csv', index_col=0)"
   ]
  },
  {
   "cell_type": "code",
   "execution_count": 23,
   "metadata": {},
   "outputs": [
    {
     "data": {
      "text/html": [
       "<div>\n",
       "<style scoped>\n",
       "    .dataframe tbody tr th:only-of-type {\n",
       "        vertical-align: middle;\n",
       "    }\n",
       "\n",
       "    .dataframe tbody tr th {\n",
       "        vertical-align: top;\n",
       "    }\n",
       "\n",
       "    .dataframe thead th {\n",
       "        text-align: right;\n",
       "    }\n",
       "</style>\n",
       "<table border=\"1\" class=\"dataframe\">\n",
       "  <thead>\n",
       "    <tr style=\"text-align: right;\">\n",
       "      <th></th>\n",
       "      <th>readname</th>\n",
       "      <th>reference_start</th>\n",
       "      <th>reference_end</th>\n",
       "    </tr>\n",
       "  </thead>\n",
       "  <tbody>\n",
       "    <tr>\n",
       "      <th>0</th>\n",
       "      <td>ST-K00126:336:H5W53BBXX:19962722:20120330:5053...</td>\n",
       "      <td>19999958</td>\n",
       "      <td>20000058</td>\n",
       "    </tr>\n",
       "    <tr>\n",
       "      <th>1</th>\n",
       "      <td>ST-K00126:1714:H5W53BBXX:19876023:20073038:137...</td>\n",
       "      <td>19999966</td>\n",
       "      <td>20000066</td>\n",
       "    </tr>\n",
       "    <tr>\n",
       "      <th>2</th>\n",
       "      <td>ST-K00126:128:H5W53BBXX:19846943:20117449:1735...</td>\n",
       "      <td>19999974</td>\n",
       "      <td>20000074</td>\n",
       "    </tr>\n",
       "    <tr>\n",
       "      <th>3</th>\n",
       "      <td>ST-K00126:123:H5W53BBXX:19995295:20041917:1801...</td>\n",
       "      <td>19999995</td>\n",
       "      <td>20000095</td>\n",
       "    </tr>\n",
       "    <tr>\n",
       "      <th>4</th>\n",
       "      <td>ST-K00126:445:H5W53BBXX:19998589:20051598:2192...</td>\n",
       "      <td>20000001</td>\n",
       "      <td>20000101</td>\n",
       "    </tr>\n",
       "  </tbody>\n",
       "</table>\n",
       "</div>"
      ],
      "text/plain": [
       "                                            readname  reference_start  \\\n",
       "0  ST-K00126:336:H5W53BBXX:19962722:20120330:5053...         19999958   \n",
       "1  ST-K00126:1714:H5W53BBXX:19876023:20073038:137...         19999966   \n",
       "2  ST-K00126:128:H5W53BBXX:19846943:20117449:1735...         19999974   \n",
       "3  ST-K00126:123:H5W53BBXX:19995295:20041917:1801...         19999995   \n",
       "4  ST-K00126:445:H5W53BBXX:19998589:20051598:2192...         20000001   \n",
       "\n",
       "   reference_end  \n",
       "0       20000058  \n",
       "1       20000066  \n",
       "2       20000074  \n",
       "3       20000095  \n",
       "4       20000101  "
      ]
     },
     "execution_count": 23,
     "metadata": {},
     "output_type": "execute_result"
    }
   ],
   "source": [
    "benchmark.head()"
   ]
  },
  {
   "cell_type": "code",
   "execution_count": 24,
   "metadata": {},
   "outputs": [
    {
     "data": {
      "text/html": [
       "<div>\n",
       "<style scoped>\n",
       "    .dataframe tbody tr th:only-of-type {\n",
       "        vertical-align: middle;\n",
       "    }\n",
       "\n",
       "    .dataframe tbody tr th {\n",
       "        vertical-align: top;\n",
       "    }\n",
       "\n",
       "    .dataframe thead th {\n",
       "        text-align: right;\n",
       "    }\n",
       "</style>\n",
       "<table border=\"1\" class=\"dataframe\">\n",
       "  <thead>\n",
       "    <tr style=\"text-align: right;\">\n",
       "      <th></th>\n",
       "      <th>read_index</th>\n",
       "      <th>max_ref_index</th>\n",
       "      <th>max_similarity</th>\n",
       "      <th>ref_start</th>\n",
       "      <th>benchmark_start</th>\n",
       "    </tr>\n",
       "  </thead>\n",
       "  <tbody>\n",
       "    <tr>\n",
       "      <th>0</th>\n",
       "      <td>0</td>\n",
       "      <td>0</td>\n",
       "      <td>0.220256</td>\n",
       "      <td>20000000</td>\n",
       "      <td>19999958</td>\n",
       "    </tr>\n",
       "    <tr>\n",
       "      <th>1</th>\n",
       "      <td>1</td>\n",
       "      <td>0</td>\n",
       "      <td>0.176471</td>\n",
       "      <td>20000000</td>\n",
       "      <td>19999966</td>\n",
       "    </tr>\n",
       "    <tr>\n",
       "      <th>2</th>\n",
       "      <td>2</td>\n",
       "      <td>0</td>\n",
       "      <td>0.229256</td>\n",
       "      <td>20000000</td>\n",
       "      <td>19999974</td>\n",
       "    </tr>\n",
       "    <tr>\n",
       "      <th>3</th>\n",
       "      <td>3</td>\n",
       "      <td>0</td>\n",
       "      <td>0.560062</td>\n",
       "      <td>20000000</td>\n",
       "      <td>19999995</td>\n",
       "    </tr>\n",
       "    <tr>\n",
       "      <th>4</th>\n",
       "      <td>4</td>\n",
       "      <td>0</td>\n",
       "      <td>0.498127</td>\n",
       "      <td>20000000</td>\n",
       "      <td>20000001</td>\n",
       "    </tr>\n",
       "  </tbody>\n",
       "</table>\n",
       "</div>"
      ],
      "text/plain": [
       "   read_index  max_ref_index  max_similarity  ref_start  benchmark_start\n",
       "0           0              0        0.220256   20000000         19999958\n",
       "1           1              0        0.176471   20000000         19999966\n",
       "2           2              0        0.229256   20000000         19999974\n",
       "3           3              0        0.560062   20000000         19999995\n",
       "4           4              0        0.498127   20000000         20000001"
      ]
     },
     "execution_count": 24,
     "metadata": {},
     "output_type": "execute_result"
    }
   ],
   "source": [
    "# join results with benchmark=\n",
    "results_df = results_df.join(benchmark['reference_start'], on='read_index')\n",
    "results_df.rename(columns={'reference_start': 'benchmark_start'}, inplace=True)\n",
    "results_df.head()"
   ]
  },
  {
   "cell_type": "code",
   "execution_count": 25,
   "metadata": {},
   "outputs": [
    {
     "data": {
      "text/plain": [
       "0.9999971186503247"
      ]
     },
     "execution_count": 25,
     "metadata": {},
     "output_type": "execute_result"
    }
   ],
   "source": [
    "# compute correlation between benchmark and reference start\n",
    "results_df['ref_start'].corr(results_df['benchmark_start'])"
   ]
  },
  {
   "cell_type": "code",
   "execution_count": 26,
   "metadata": {},
   "outputs": [
    {
     "data": {
      "text/html": [
       "<div>\n",
       "<style scoped>\n",
       "    .dataframe tbody tr th:only-of-type {\n",
       "        vertical-align: middle;\n",
       "    }\n",
       "\n",
       "    .dataframe tbody tr th {\n",
       "        vertical-align: top;\n",
       "    }\n",
       "\n",
       "    .dataframe thead th {\n",
       "        text-align: right;\n",
       "    }\n",
       "</style>\n",
       "<table border=\"1\" class=\"dataframe\">\n",
       "  <thead>\n",
       "    <tr style=\"text-align: right;\">\n",
       "      <th></th>\n",
       "      <th>read_index</th>\n",
       "      <th>max_ref_index</th>\n",
       "      <th>max_similarity</th>\n",
       "      <th>ref_start</th>\n",
       "      <th>benchmark_start</th>\n",
       "      <th>diff</th>\n",
       "    </tr>\n",
       "  </thead>\n",
       "  <tbody>\n",
       "    <tr>\n",
       "      <th>1985</th>\n",
       "      <td>1985</td>\n",
       "      <td>432</td>\n",
       "      <td>0.100110</td>\n",
       "      <td>20043200</td>\n",
       "      <td>20043139</td>\n",
       "      <td>61</td>\n",
       "    </tr>\n",
       "    <tr>\n",
       "      <th>421</th>\n",
       "      <td>421</td>\n",
       "      <td>103</td>\n",
       "      <td>0.098901</td>\n",
       "      <td>20010300</td>\n",
       "      <td>20010239</td>\n",
       "      <td>61</td>\n",
       "    </tr>\n",
       "    <tr>\n",
       "      <th>262</th>\n",
       "      <td>262</td>\n",
       "      <td>70</td>\n",
       "      <td>0.098298</td>\n",
       "      <td>20007000</td>\n",
       "      <td>20006940</td>\n",
       "      <td>60</td>\n",
       "    </tr>\n",
       "    <tr>\n",
       "      <th>614</th>\n",
       "      <td>614</td>\n",
       "      <td>145</td>\n",
       "      <td>0.100715</td>\n",
       "      <td>20014500</td>\n",
       "      <td>20014440</td>\n",
       "      <td>60</td>\n",
       "    </tr>\n",
       "    <tr>\n",
       "      <th>7</th>\n",
       "      <td>7</td>\n",
       "      <td>1</td>\n",
       "      <td>0.112347</td>\n",
       "      <td>20000100</td>\n",
       "      <td>20000040</td>\n",
       "      <td>60</td>\n",
       "    </tr>\n",
       "  </tbody>\n",
       "</table>\n",
       "</div>"
      ],
      "text/plain": [
       "      read_index  max_ref_index  max_similarity  ref_start  benchmark_start  \\\n",
       "1985        1985            432        0.100110   20043200         20043139   \n",
       "421          421            103        0.098901   20010300         20010239   \n",
       "262          262             70        0.098298   20007000         20006940   \n",
       "614          614            145        0.100715   20014500         20014440   \n",
       "7              7              1        0.112347   20000100         20000040   \n",
       "\n",
       "      diff  \n",
       "1985    61  \n",
       "421     61  \n",
       "262     60  \n",
       "614     60  \n",
       "7       60  "
      ]
     },
     "execution_count": 26,
     "metadata": {},
     "output_type": "execute_result"
    }
   ],
   "source": [
    "# print top 5 differences between ref_start and benchmark_start\n",
    "results_df['diff'] = results_df['ref_start'] - results_df['benchmark_start']\n",
    "results_df.sort_values('diff', ascending=False).head()\n"
   ]
  },
  {
   "cell_type": "code",
   "execution_count": 27,
   "metadata": {},
   "outputs": [
    {
     "data": {
      "image/png": "[encoded data removed]",
      "text/plain": [
       "<Figure size 500x500 with 1 Axes>"
      ]
     },
     "metadata": {},
     "output_type": "display_data"
    }
   ],
   "source": [
    "# scatterplot of benchmark and reference start\n",
    "import matplotlib.pyplot as plt\n",
    "import seaborn as sns\n",
    "sns.set_style(\"whitegrid\")\n",
    "plt.figure(figsize=(5,5))\n",
    "plt.scatter(results_df['ref_start'], results_df['benchmark_start'], alpha=0.1, s=10, color=\"gray\")\n",
    "plt.xlabel('Our Alignment Start')\n",
    "plt.ylabel('Benchmark Start')\n",
    "plt.show()"
   ]
  },
  {
   "cell_type": "code",
   "execution_count": 28,
   "metadata": {},
   "outputs": [
    {
     "data": {
      "text/plain": [
       "894.8645"
      ]
     },
     "execution_count": 28,
     "metadata": {},
     "output_type": "execute_result"
    }
   ],
   "source": [
    "# calculate the mse between benchmark and reference start\n",
    "np.mean((results_df['ref_start'] - results_df['benchmark_start'])**2)"
   ]
  },
  {
   "attachments": {},
   "cell_type": "markdown",
   "metadata": {},
   "source": [
    "### Step 9\n",
    "Apply parallel in hash function; show the time cost before and after parallel"
   ]
  },
  {
   "attachments": {},
   "cell_type": "markdown",
   "metadata": {},
   "source": [
    "#### Implement All The Above in a Function (No Changes)"
   ]
  },
  {
   "cell_type": "code",
   "execution_count": 29,
   "metadata": {},
   "outputs": [],
   "source": [
    "# sequential alignment function\n",
    "\n",
    "def sequential_alignment(reads, reference, benchmark, kmer_length, num_hashes):\n",
    "    \n",
    "    print(\"Sequential\")\n",
    "\n",
    "    # cut each read and reference into k-mers lagged by one base\n",
    "    reads['kmers'] = reads['read'].apply(lambda x: [x[i:i+kmer_length] for i in range(0, len(x)-kmer_length, 1)])\n",
    "    reference['kmers'] = reference['sequence'].apply(lambda x: [x[i:i+kmer_length] for i in range(0, len(x)-kmer_length, 1)])\n",
    "\n",
    "    # collect distinct kmers from reads and reference\n",
    "    kmers_set = set()\n",
    "    for kmers_list in reads['kmers']:\n",
    "        kmers_set.update(kmers_list)\n",
    "    for kmers_list in reference['kmers']:\n",
    "        kmers_set.update(kmers_list)\n",
    "    print(f\"Kmer length: {kmer_length}\")\n",
    "    print(f\"Number of kmers: {len(kmers_set)}\")\n",
    "\n",
    "    # encode reads and reference\n",
    "    reads_enc = kmer_encode(kmers_set,reads)\n",
    "    reference_enc = kmer_encode(kmers_set,reference)\n",
    "\n",
    "    # drop unneeded columns\n",
    "    reads_enc.drop(['name', 'read', 'kmers'], axis=1, inplace=True)\n",
    "    reference_enc.drop(['start', 'end', 'sequence', 'kmers'], axis=1, inplace=True)\n",
    "\n",
    "    # Compute MinHash signatures for reads and reference sequences\n",
    "    reads_sigs = reads_enc.apply(minhash_signature, num_hashes=num_hashes, axis=1)\n",
    "    refs_sigs = reference_enc.apply(minhash_signature, num_hashes=num_hashes, axis=1)\n",
    "    print(f\"Number of hashes: {num_hashes}\")\n",
    "\n",
    "    # for each read signature, find the reference signature with the highest Jaccard similarity\n",
    "    results = []\n",
    "    for read_index, read_sig in reads_sigs.items():\n",
    "        max_similarity = 0\n",
    "        max_ref_index = np.random.randint(0, len(refs_sigs)) # random init instead of NaN\n",
    "        for ref_index, ref_sig in refs_sigs.items():\n",
    "            similarity = jaccard_similarity(read_sig, ref_sig)\n",
    "            if similarity > max_similarity:\n",
    "                max_similarity = similarity\n",
    "                max_ref_index = ref_index\n",
    "        results.append((read_index, max_ref_index, max_similarity))\n",
    "    results_df = pd.DataFrame(results, columns=['read_index', 'max_ref_index', 'max_similarity'])\n",
    "\n",
    "    # join results with reference and benchmark\n",
    "    results_df = results_df.join(reference['start'], on='max_ref_index')\n",
    "    results_df = results_df.join(benchmark['reference_start'], on='read_index')\n",
    "    results_df.rename(columns={'start': 'ref_start', 'reference_start': 'benchmark_start'}, inplace=True)\n",
    "\n",
    "    # compute correlation between benchmark and reference start\n",
    "    corr_result = results_df['ref_start'].corr(results_df['benchmark_start'])\n",
    "    print(f\"Benchmark Correlation: {corr_result}\")\n",
    "\n",
    "    # calculate the mse between benchmark and reference start\n",
    "    mse_result = np.mean((results_df['ref_start'] - results_df['benchmark_start'])**2)\n",
    "    print(f\"Benchmark MSE: {mse_result}\")"
   ]
  },
  {
   "cell_type": "code",
   "execution_count": 30,
   "metadata": {},
   "outputs": [
    {
     "name": "stdout",
     "output_type": "stream",
     "text": [
      "Sequential\n",
      "Kmer length: 15\n",
      "Number of kmers: 72445\n",
      "Number of hashes: 1000\n",
      "Benchmark Correlation: 0.9999971186503247\n",
      "Benchmark MSE: 894.8645\n",
      "CPU times: user 5min 45s, sys: 9.31 s, total: 5min 55s\n",
      "Wall time: 5min 58s\n"
     ]
    }
   ],
   "source": [
    "%%time\n",
    "\n",
    "sequential_alignment(reads, reference, benchmark, kmer_length = 15, num_hashes = 1000)"
   ]
  },
  {
   "attachments": {},
   "cell_type": "markdown",
   "metadata": {},
   "source": [
    "#### Parallelize That Shit"
   ]
  },
  {
   "cell_type": "code",
   "execution_count": 31,
   "metadata": {},
   "outputs": [],
   "source": [
    "import multiprocess as mp\n",
    "from multiprocess import Pool"
   ]
  },
  {
   "cell_type": "code",
   "execution_count": 32,
   "metadata": {},
   "outputs": [],
   "source": [
    "def kmer_encode_chunk(kmers_chunk, df):\n",
    "    kmers_encoding = {}\n",
    "\n",
    "    for kmer in kmers_chunk:\n",
    "        kmers_encoding[kmer] = df['kmers'].apply(lambda x: 1 if kmer in x else 0)\n",
    "\n",
    "    kmers_encoding = pd.DataFrame(kmers_encoding)\n",
    "    return kmers_encoding\n",
    "\n",
    "def process_chunk(args):\n",
    "    chunk, df = args\n",
    "    return kmer_encode_chunk(chunk, df)\n",
    "\n",
    "def kmer_encode_parallel(kmers_set, df, n_processes=6):\n",
    "\n",
    "    # Convert kmers_set to a list and split it into n_processes chunks\n",
    "    kmers_list = list(kmers_set)\n",
    "    kmers_chunks = np.array_split(kmers_list, n_processes)\n",
    "\n",
    "    # Use a multiprocessing.Pool to parallelize the computation\n",
    "    with Pool(n_processes) as pool:\n",
    "        kmers_encoding_list = pool.map(process_chunk, [(chunk, df) for chunk in kmers_chunks])\n",
    "\n",
    "    # Combine the results\n",
    "    kmers_encoding = pd.concat(kmers_encoding_list, axis=1)\n",
    "    df = pd.concat([df, kmers_encoding], axis=1)\n",
    "\n",
    "    return df"
   ]
  },
  {
   "cell_type": "code",
   "execution_count": 33,
   "metadata": {},
   "outputs": [],
   "source": [
    "def find_max_similarity(args):\n",
    "    read_index, read_sig, refs_sigs = args\n",
    "    max_similarity = 0\n",
    "    max_ref_index = np.random.randint(0, len(refs_sigs))\n",
    "\n",
    "    for ref_index, ref_sig in refs_sigs.items():\n",
    "        similarity = jaccard_similarity(read_sig, ref_sig)\n",
    "        if similarity > max_similarity:\n",
    "            max_similarity = similarity\n",
    "            max_ref_index = ref_index\n",
    "\n",
    "    return (read_index, max_ref_index, max_similarity)\n",
    "\n",
    "def find_max_similarities_parallel(reads_sigs, refs_sigs, n_processes = 6):\n",
    "    with Pool(n_processes) as pool:\n",
    "        results = pool.map(find_max_similarity, [(read_index, read_sig, refs_sigs) for read_index, read_sig in reads_sigs.items()])\n",
    "    return results\n",
    "\n"
   ]
  },
  {
   "cell_type": "code",
   "execution_count": 34,
   "metadata": {},
   "outputs": [],
   "source": [
    "# parallel alignment function\n",
    "\n",
    "def parallel_alignment(reads, reference, benchmark, kmer_length = 15, num_hashes = 1000):\n",
    "    \n",
    "    print(\"Parallel\")\n",
    "\n",
    "    # cut each read and reference into k-mers lagged by one base\n",
    "    reads['kmers'] = reads['read'].apply(lambda x: [x[i:i+kmer_length] for i in range(0, len(x)-kmer_length, 1)])\n",
    "    reference['kmers'] = reference['sequence'].apply(lambda x: [x[i:i+kmer_length] for i in range(0, len(x)-kmer_length, 1)])\n",
    "\n",
    "    # collect distinct kmers from reads and reference\n",
    "    kmers_set = set()\n",
    "    for kmers_list in reads['kmers']:\n",
    "        kmers_set.update(kmers_list)\n",
    "    for kmers_list in reference['kmers']:\n",
    "        kmers_set.update(kmers_list)\n",
    "    print(f\"Kmer length: {kmer_length}\")\n",
    "    print(f\"Number of kmers: {len(kmers_set)}\")\n",
    "\n",
    "\n",
    "    # encode reads and reference\n",
    "    reads_enc = kmer_encode_parallel(kmers_set,reads)\n",
    "    reference_enc = kmer_encode_parallel(kmers_set,reference)\n",
    "\n",
    "    # drop unneeded columns\n",
    "    reads_enc.drop(['name', 'read', 'kmers'], axis=1, inplace=True)\n",
    "    reference_enc.drop(['start', 'end', 'sequence', 'kmers'], axis=1, inplace=True)\n",
    "\n",
    "    # Compute MinHash signatures for reads and reference sequences\n",
    "    reads_sigs = reads_enc.apply(minhash_signature, num_hashes=num_hashes, axis=1)\n",
    "    refs_sigs = reference_enc.apply(minhash_signature, num_hashes=num_hashes, axis=1)\n",
    "    print(f\"Number of hashes: {num_hashes}\")\n",
    "\n",
    "    # for each read signature, find the reference signature with the highest Jaccard similarity\n",
    "    results = find_max_similarities_parallel(reads_sigs, refs_sigs)\n",
    "    results_df = pd.DataFrame(results, columns=['read_index', 'max_ref_index', 'max_similarity'])\n",
    "\n",
    "    # join results with reference and benchmark\n",
    "    results_df = results_df.join(reference['start'], on='max_ref_index')\n",
    "    results_df = results_df.join(benchmark['reference_start'], on='read_index')\n",
    "    results_df.rename(columns={'start': 'ref_start', 'reference_start': 'benchmark_start'}, inplace=True)\n",
    "\n",
    "    # compute correlation between benchmark and reference start\n",
    "    corr_result = results_df['ref_start'].corr(results_df['benchmark_start'])\n",
    "    print(f\"Benchmark Correlation: {corr_result}\")\n",
    "\n",
    "    # calculate the mse between benchmark and reference start\n",
    "    mse_result = np.mean((results_df['ref_start'] - results_df['benchmark_start'])**2)\n",
    "    print(f\"Benchmark MSE: {mse_result}\")"
   ]
  },
  {
   "cell_type": "code",
   "execution_count": 35,
   "metadata": {},
   "outputs": [
    {
     "name": "stdout",
     "output_type": "stream",
     "text": [
      "Parallel\n",
      "Kmer length: 15\n",
      "Number of kmers: 72445\n",
      "Number of hashes: 1000\n",
      "Benchmark Correlation: 0.9999971186503247\n",
      "Benchmark MSE: 894.8645\n",
      "CPU times: user 1min 2s, sys: 7.28 s, total: 1min 9s\n",
      "Wall time: 2min 45s\n"
     ]
    }
   ],
   "source": [
    "%%time\n",
    "\n",
    "# default\n",
    "parallel_alignment(reads, reference, benchmark, kmer_length = 15, num_hashes = 1000)"
   ]
  },
  {
   "cell_type": "code",
   "execution_count": 36,
   "metadata": {},
   "outputs": [
    {
     "name": "stdout",
     "output_type": "stream",
     "text": [
      "Parallel\n",
      "Kmer length: 15\n",
      "Number of kmers: 72445\n",
      "Number of hashes: 2000\n",
      "Benchmark Correlation: 0.9999971276241125\n",
      "Benchmark MSE: 892.2645\n",
      "CPU times: user 2min, sys: 7.95 s, total: 2min 8s\n",
      "Wall time: 4min 9s\n"
     ]
    }
   ],
   "source": [
    "%%time\n",
    "\n",
    "# increased hashes\n",
    "parallel_alignment(reads, reference, benchmark, kmer_length = 15, num_hashes = 2000)"
   ]
  },
  {
   "cell_type": "code",
   "execution_count": 37,
   "metadata": {},
   "outputs": [
    {
     "name": "stdout",
     "output_type": "stream",
     "text": [
      "Parallel\n",
      "Kmer length: 15\n",
      "Number of kmers: 72445\n",
      "Number of hashes: 500\n",
      "Benchmark Correlation: 0.9999971180100263\n",
      "Benchmark MSE: 894.8645\n",
      "CPU times: user 34.1 s, sys: 5.53 s, total: 39.6 s\n",
      "Wall time: 2min 12s\n"
     ]
    }
   ],
   "source": [
    "%%time\n",
    "\n",
    "# decrease hashes\n",
    "parallel_alignment(reads, reference, benchmark, kmer_length = 15, num_hashes = 500)"
   ]
  },
  {
   "cell_type": "code",
   "execution_count": 39,
   "metadata": {},
   "outputs": [
    {
     "name": "stdout",
     "output_type": "stream",
     "text": [
      "Parallel\n",
      "Kmer length: 15\n",
      "Number of kmers: 72445\n",
      "Number of hashes: 250\n",
      "Benchmark Correlation: 0.99999708515698\n",
      "Benchmark MSE: 906.2645\n",
      "CPU times: user 18.3 s, sys: 4.55 s, total: 22.9 s\n",
      "Wall time: 1min 36s\n"
     ]
    }
   ],
   "source": [
    "%%time\n",
    "\n",
    "# decrease hashes more\n",
    "parallel_alignment(reads, reference, benchmark, kmer_length = 15, num_hashes = 250)"
   ]
  },
  {
   "cell_type": "code",
   "execution_count": 40,
   "metadata": {},
   "outputs": [
    {
     "name": "stdout",
     "output_type": "stream",
     "text": [
      "Parallel\n",
      "Kmer length: 10\n",
      "Number of kmers: 59834\n",
      "Number of hashes: 300\n",
      "Benchmark Correlation: 0.9999971712801264\n",
      "Benchmark MSE: 877.7645\n",
      "CPU times: user 21.8 s, sys: 4.1 s, total: 25.9 s\n",
      "Wall time: 1min 34s\n"
     ]
    }
   ],
   "source": [
    "%%time\n",
    "\n",
    "# decrease hashes and kmer length\n",
    "parallel_alignment(reads, reference, benchmark, kmer_length = 10, num_hashes = 300)"
   ]
  },
  {
   "cell_type": "code",
   "execution_count": 44,
   "metadata": {},
   "outputs": [
    {
     "name": "stdout",
     "output_type": "stream",
     "text": [
      "Parallel\n",
      "Kmer length: 10\n",
      "Number of kmers: 59834\n",
      "Number of hashes: 1000\n",
      "Benchmark Correlation: 0.9999971881568693\n",
      "Benchmark MSE: 872.6645\n",
      "CPU times: user 1min, sys: 4.07 s, total: 1min 4s\n",
      "Wall time: 2min 13s\n"
     ]
    }
   ],
   "source": [
    "%%time\n",
    "\n",
    "parallel_alignment(reads, reference, benchmark, kmer_length = 10, num_hashes = 1000)"
   ]
  },
  {
   "cell_type": "code",
   "execution_count": 42,
   "metadata": {},
   "outputs": [
    {
     "name": "stdout",
     "output_type": "stream",
     "text": [
      "Parallel\n",
      "Kmer length: 8\n",
      "Number of kmers: 30515\n",
      "Number of hashes: 1000\n",
      "Benchmark Correlation: 0.9999965356924093\n",
      "Benchmark MSE: 1075.0645\n",
      "CPU times: user 1min, sys: 2.91 s, total: 1min 3s\n",
      "Wall time: 1min 55s\n"
     ]
    }
   ],
   "source": [
    "%%time\n",
    "\n",
    "parallel_alignment(reads, reference, benchmark, kmer_length = 8, num_hashes = 1000)"
   ]
  },
  {
   "cell_type": "code",
   "execution_count": 43,
   "metadata": {},
   "outputs": [
    {
     "name": "stdout",
     "output_type": "stream",
     "text": [
      "Parallel\n",
      "Kmer length: 20\n",
      "Number of kmers: 77657\n",
      "Number of hashes: 1000\n",
      "Benchmark Correlation: 0.9999970418259364\n",
      "Benchmark MSE: 918.1645\n",
      "CPU times: user 57.2 s, sys: 4.93 s, total: 1min 2s\n",
      "Wall time: 2min 29s\n"
     ]
    }
   ],
   "source": [
    "%%time\n",
    "\n",
    "parallel_alignment(reads, reference, benchmark, kmer_length = 20, num_hashes = 1000)"
   ]
  },
  {
   "cell_type": "code",
   "execution_count": null,
   "metadata": {},
   "outputs": [],
   "source": []
  }
 ],
 "metadata": {
  "kernelspec": {
   "display_name": "venv",
   "language": "python",
   "name": "python3"
  },
  "language_info": {
   "codemirror_mode": {
    "name": "ipython",
    "version": 3
   },
   "file_extension": ".py",
   "mimetype": "text/x-python",
   "name": "python",
   "nbconvert_exporter": "python",
   "pygments_lexer": "ipython3",
   "version": "3.11.3"
  },
  "orig_nbformat": 4
 },
 "nbformat": 4,
 "nbformat_minor": 2
}
